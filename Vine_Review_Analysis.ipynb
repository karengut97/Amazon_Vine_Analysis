{
  "nbformat": 4,
  "nbformat_minor": 0,
  "metadata": {
    "colab": {
      "name": "Vine_Review_Analysis.ipynb",
      "provenance": [],
      "collapsed_sections": [],
      "authorship_tag": "ABX9TyNfxjP98x3NP15Ne8xWcV41",
      "include_colab_link": true
    },
    "kernelspec": {
      "name": "python3",
      "display_name": "Python 3"
    },
    "language_info": {
      "name": "python"
    }
  },
  "cells": [
    {
      "cell_type": "markdown",
      "metadata": {
        "id": "view-in-github",
        "colab_type": "text"
      },
      "source": [
        "<a href=\"https://colab.research.google.com/github/karengut97/Amazon_Vine_Analysis/blob/main/Vine_Review_Analysis.ipynb\" target=\"_parent\"><img src=\"https://colab.research.google.com/assets/colab-badge.svg\" alt=\"Open In Colab\"/></a>"
      ]
    },
    {
      "cell_type": "code",
      "metadata": {
        "colab": {
          "base_uri": "https://localhost:8080/"
        },
        "id": "cMDmBp7wyFFB",
        "outputId": "40850014-a863-4f26-a87f-7bbf479cd68d"
      },
      "source": [
        "import os\n",
        "# Find the latest version of spark 3.0 from http://www.apache.org/dist/spark/ and enter as the spark version\n",
        "# For example:\n",
        "# spark_version = 'spark-3.0.3'\n",
        "spark_version = 'spark-3.0.3'\n",
        "os.environ['SPARK_VERSION']=spark_version\n",
        "\n",
        "# Install Spark and Java\n",
        "!apt-get update\n",
        "!apt-get install openjdk-11-jdk-headless -qq > /dev/null\n",
        "!wget -q http://www.apache.org/dist/spark/$SPARK_VERSION/$SPARK_VERSION-bin-hadoop2.7.tgz\n",
        "!tar xf $SPARK_VERSION-bin-hadoop2.7.tgz\n",
        "!pip install -q findspark\n",
        "\n",
        "# Set Environment Variables\n",
        "import os\n",
        "os.environ[\"JAVA_HOME\"] = \"/usr/lib/jvm/java-11-openjdk-amd64\"\n",
        "os.environ[\"SPARK_HOME\"] = f\"/content/{spark_version}-bin-hadoop2.7\"\n",
        "\n",
        "# Start a SparkSession\n",
        "import findspark\n",
        "findspark.init()"
      ],
      "execution_count": 1,
      "outputs": [
        {
          "output_type": "stream",
          "name": "stdout",
          "text": [
            "\r0% [Working]\r            \rGet:1 https://cloud.r-project.org/bin/linux/ubuntu bionic-cran40/ InRelease [3,626 B]\n",
            "Ign:2 https://developer.download.nvidia.com/compute/cuda/repos/ubuntu1804/x86_64  InRelease\n",
            "Ign:3 https://developer.download.nvidia.com/compute/machine-learning/repos/ubuntu1804/x86_64  InRelease\n",
            "Hit:4 https://developer.download.nvidia.com/compute/cuda/repos/ubuntu1804/x86_64  Release\n",
            "Hit:5 https://developer.download.nvidia.com/compute/machine-learning/repos/ubuntu1804/x86_64  Release\n",
            "Hit:6 http://archive.ubuntu.com/ubuntu bionic InRelease\n",
            "Get:7 http://security.ubuntu.com/ubuntu bionic-security InRelease [88.7 kB]\n",
            "Get:8 http://ppa.launchpad.net/c2d4u.team/c2d4u4.0+/ubuntu bionic InRelease [15.9 kB]\n",
            "Get:9 http://archive.ubuntu.com/ubuntu bionic-updates InRelease [88.7 kB]\n",
            "Get:10 https://cloud.r-project.org/bin/linux/ubuntu bionic-cran40/ Packages [67.9 kB]\n",
            "Hit:11 http://ppa.launchpad.net/cran/libgit2/ubuntu bionic InRelease\n",
            "Get:13 http://archive.ubuntu.com/ubuntu bionic-backports InRelease [74.6 kB]\n",
            "Hit:14 http://ppa.launchpad.net/deadsnakes/ppa/ubuntu bionic InRelease\n",
            "Hit:16 http://ppa.launchpad.net/graphics-drivers/ppa/ubuntu bionic InRelease\n",
            "Get:17 http://ppa.launchpad.net/c2d4u.team/c2d4u4.0+/ubuntu bionic/main Sources [1,802 kB]\n",
            "Get:18 http://security.ubuntu.com/ubuntu bionic-security/universe amd64 Packages [1,428 kB]\n",
            "Get:19 http://security.ubuntu.com/ubuntu bionic-security/main amd64 Packages [2,335 kB]\n",
            "Get:20 http://security.ubuntu.com/ubuntu bionic-security/restricted amd64 Packages [581 kB]\n",
            "Get:21 http://archive.ubuntu.com/ubuntu bionic-updates/main amd64 Packages [2,770 kB]\n",
            "Get:22 http://ppa.launchpad.net/c2d4u.team/c2d4u4.0+/ubuntu bionic/main amd64 Packages [922 kB]\n",
            "Get:23 http://archive.ubuntu.com/ubuntu bionic-updates/restricted amd64 Packages [613 kB]\n",
            "Get:24 http://archive.ubuntu.com/ubuntu bionic-updates/universe amd64 Packages [2,202 kB]\n",
            "Fetched 13.0 MB in 4s (3,041 kB/s)\n",
            "Reading package lists... Done\n"
          ]
        }
      ]
    },
    {
      "cell_type": "code",
      "metadata": {
        "colab": {
          "base_uri": "https://localhost:8080/"
        },
        "id": "60klBNZoyIir",
        "outputId": "6925aac8-d14e-4222-bd80-d5ca8d587911"
      },
      "source": [
        "# Download the Postgres driver that will allow Spark to interact with Postgres.\n",
        "!wget https://jdbc.postgresql.org/download/postgresql-42.2.16.jar"
      ],
      "execution_count": 2,
      "outputs": [
        {
          "output_type": "stream",
          "name": "stdout",
          "text": [
            "--2021-09-25 21:08:43--  https://jdbc.postgresql.org/download/postgresql-42.2.16.jar\n",
            "Resolving jdbc.postgresql.org (jdbc.postgresql.org)... 72.32.157.228, 2001:4800:3e1:1::228\n",
            "Connecting to jdbc.postgresql.org (jdbc.postgresql.org)|72.32.157.228|:443... connected.\n",
            "HTTP request sent, awaiting response... 200 OK\n",
            "Length: 1002883 (979K) [application/java-archive]\n",
            "Saving to: ‘postgresql-42.2.16.jar’\n",
            "\n",
            "postgresql-42.2.16. 100%[===================>] 979.38K  4.89MB/s    in 0.2s    \n",
            "\n",
            "2021-09-25 21:08:43 (4.89 MB/s) - ‘postgresql-42.2.16.jar’ saved [1002883/1002883]\n",
            "\n"
          ]
        }
      ]
    },
    {
      "cell_type": "code",
      "metadata": {
        "id": "ED7VpwdiyLU3"
      },
      "source": [
        "from pyspark.sql import SparkSession\n",
        "spark = SparkSession.builder.appName(\"M16-Amazon-Challenge\").config(\"spark.driver.extraClassPath\",\"/content/postgresql-42.2.16.jar\").getOrCreate()"
      ],
      "execution_count": 3,
      "outputs": []
    },
    {
      "cell_type": "markdown",
      "metadata": {
        "id": "04ynT6PbyxVF"
      },
      "source": [
        "Load Amazon Data into Spark DataFrame"
      ]
    },
    {
      "cell_type": "code",
      "metadata": {
        "colab": {
          "base_uri": "https://localhost:8080/"
        },
        "id": "_ri2i3WXyOB0",
        "outputId": "3b037926-76ef-43bc-e179-44b5747d89e9"
      },
      "source": [
        "from pyspark import SparkFiles\n",
        "url = \"https://s3.amazonaws.com/amazon-reviews-pds/tsv/amazon_reviews_us_Sports_v1_00.tsv.gz\"\n",
        "spark.sparkContext.addFile(url)\n",
        "df = spark.read.option(\"encoding\", \"UTF-8\").csv(SparkFiles.get(\"\"), sep=\"\\t\", header=True, inferSchema=True)\n",
        "df.show()"
      ],
      "execution_count": 4,
      "outputs": [
        {
          "output_type": "stream",
          "name": "stdout",
          "text": [
            "+-----------+-----------+--------------+----------+--------------+--------------------+----------------+-----------+-------------+-----------+----+-----------------+--------------------+--------------------+-----------+\n",
            "|marketplace|customer_id|     review_id|product_id|product_parent|       product_title|product_category|star_rating|helpful_votes|total_votes|vine|verified_purchase|     review_headline|         review_body|review_date|\n",
            "+-----------+-----------+--------------+----------+--------------+--------------------+----------------+-----------+-------------+-----------+----+-----------------+--------------------+--------------------+-----------+\n",
            "|         US|   48945260|R1WBPB8MDCCN8F|B012P7UPSM|     409940130|Chicago Blackhawk...|          Sports|          5|            0|          0|   N|                N|   LOVE IT. 6 stars!|Bought this last ...| 2015-08-31|\n",
            "|         US|    5782091|R32M0YEWV77XG8|B001GQ3VHG|     657746679|Copag Poker Size ...|          Sports|          5|            1|          1|   N|                Y|       Shipped fast.|These are the bes...| 2015-08-31|\n",
            "|         US|   45813853| RR8V7WR27NXJ5|B008VS8M58|     962442336|Baoer 223 5.56x45...|          Sports|          1|            0|          0|   N|                Y|Good idea if it w...|It looks good, th...| 2015-08-31|\n",
            "|         US|    1593730|R1MHO5V9Z932AY|B005F06F4U|      74305227|All Terrain Tackl...|          Sports|          5|            0|          0|   N|                Y|          Five Stars|           Great jig| 2015-08-31|\n",
            "|         US|   29605511|R16PD71086BD2V|B010T4IE2C|     787185588|Swim Cap - 3 Pack...|          Sports|          5|            0|          1|   N|                N|Great quality sil...|I love swimming i...| 2015-08-31|\n",
            "|         US|   11112959|R1Z8IFGWTRWXT6|B004RKJGLS|      94127483|adidas Men's Spor...|          Sports|          3|            0|          0|   N|                Y|Love everything a...|Love everything a...| 2015-08-31|\n",
            "|         US|     108031|R3AUMSHAW73HWN|B005V3DCBU|     526977496|Nike Men's Perfor...|          Sports|          4|            2|          3|   N|                N|          Four Stars|not the best sock...| 2015-08-31|\n",
            "|         US|   13981540|R2KWDWFOHGX6FL|B00MHT9WN8|      26521265|Green Bay Packers...|          Sports|          5|            0|          0|   N|                Y|          Five Stars|             Love it| 2015-08-31|\n",
            "|         US|   37993909|R3H9543FWBWFBU|B001CSIRQ8|     652431165|Isokinetics Inc. ...|          Sports|          5|            1|          1|   N|                Y|can't wait to use it|Unfortunately I h...| 2015-08-31|\n",
            "|         US|   26040213| RUANXOQ9W3OU5|B001KZ3NOO|     635861713|Aottop Quality El...|          Sports|          5|            0|          0|   N|                Y|great product, ac...|fast shipping , g...| 2015-08-31|\n",
            "|         US|   34657602|R31673RTGEZSW7|B00005RCQS|      72099763|Everlast 2'x6' Fo...|          Sports|          5|            2|          2|   N|                Y|this mat is a pre...|If you have a ter...| 2015-08-31|\n",
            "|         US|   14346192|R22OQLFSH42RCM|B00FA7RWVI|     757354022|OGIO Men's Shredd...|          Sports|          5|            1|          1|   N|                Y|  Versatile Golf Bag|Love this golf ba...| 2015-08-31|\n",
            "|         US|   38782687|R12LEL4F3TSZUJ|B000MMH2HU|     272402599|Blue Sea Systems ...|          Sports|          5|            2|          2|   N|                Y|Great AC Main Bre...|Perfect mounting ...| 2015-08-31|\n",
            "|         US|   27138575|R2L9XWD03072NI|B00WJOATDS|     375070208|Zengi AR15 45 Deg...|          Sports|          5|            1|          2|   N|                Y|   Nice, some quirks|For the cost you ...| 2015-08-31|\n",
            "|         US|   11838771|R2K0U91HIACANO|B00BOM2JNY|     639666785|Black Mountain Pr...|          Sports|          5|            0|          0|   N|                N|55 cm - Good qual...|The ball is very ...| 2015-08-31|\n",
            "|         US|     535800|R29SP6MBT7MXG7|B00OD5GAFM|      38715442|Trijicon VCOG 1-6...|          Sports|          4|            3|          3|   N|                Y|    Very nice scope.|Very nice scope.....| 2015-08-31|\n",
            "|         US|   23156579|R31XREAAMATEPY|B00CAHDC1K|      57088652|Naruto Headband f...|          Sports|          5|            0|          0|   N|                Y|was for my son an...|           This item| 2015-08-31|\n",
            "|         US|   48107879|R2116AVB87SO38|B004NLHXLG|     114125984|Under Armour Men'...|          Sports|          5|            0|          0|   N|                Y|          Five Stars|greatest socks i ...| 2015-08-31|\n",
            "|         US|   27260960|R3RDVBB6O0X3HW|B00L7OANWI|     883962979|Yes4All Deep Tiss...|          Sports|          5|            0|          0|   N|                Y|          Five Stars|Perfect for home ...| 2015-08-31|\n",
            "|         US|   39537314|R3LW5T149LKKQM|B0085PPSIQ|     691479969|Lansky PS-MED01 B...|          Sports|          4|            0|          0|   N|                Y|A bit heavy for p...|Very good product...| 2015-08-31|\n",
            "+-----------+-----------+--------------+----------+--------------+--------------------+----------------+-----------+-------------+-----------+----+-----------------+--------------------+--------------------+-----------+\n",
            "only showing top 20 rows\n",
            "\n"
          ]
        }
      ]
    },
    {
      "cell_type": "code",
      "metadata": {
        "colab": {
          "base_uri": "https://localhost:8080/"
        },
        "id": "lpEDWFjAzDSa",
        "outputId": "8085febf-bd68-4878-f5fe-fd58bb59b730"
      },
      "source": [
        "# Create the vine_table. DataFrame\n",
        "vine_df = df.select([\"review_id\", \"star_rating\", \"helpful_votes\", \"total_votes\", \"vine\", \"verified_purchase\"])\n",
        "vine_df.show()"
      ],
      "execution_count": 19,
      "outputs": [
        {
          "output_type": "stream",
          "name": "stdout",
          "text": [
            "+--------------+-----------+-------------+-----------+----+-----------------+\n",
            "|     review_id|star_rating|helpful_votes|total_votes|vine|verified_purchase|\n",
            "+--------------+-----------+-------------+-----------+----+-----------------+\n",
            "|R1WBPB8MDCCN8F|          5|            0|          0|   N|                N|\n",
            "|R32M0YEWV77XG8|          5|            1|          1|   N|                Y|\n",
            "| RR8V7WR27NXJ5|          1|            0|          0|   N|                Y|\n",
            "|R1MHO5V9Z932AY|          5|            0|          0|   N|                Y|\n",
            "|R16PD71086BD2V|          5|            0|          1|   N|                N|\n",
            "|R1Z8IFGWTRWXT6|          3|            0|          0|   N|                Y|\n",
            "|R3AUMSHAW73HWN|          4|            2|          3|   N|                N|\n",
            "|R2KWDWFOHGX6FL|          5|            0|          0|   N|                Y|\n",
            "|R3H9543FWBWFBU|          5|            1|          1|   N|                Y|\n",
            "| RUANXOQ9W3OU5|          5|            0|          0|   N|                Y|\n",
            "|R31673RTGEZSW7|          5|            2|          2|   N|                Y|\n",
            "|R22OQLFSH42RCM|          5|            1|          1|   N|                Y|\n",
            "|R12LEL4F3TSZUJ|          5|            2|          2|   N|                Y|\n",
            "|R2L9XWD03072NI|          5|            1|          2|   N|                Y|\n",
            "|R2K0U91HIACANO|          5|            0|          0|   N|                N|\n",
            "|R29SP6MBT7MXG7|          4|            3|          3|   N|                Y|\n",
            "|R31XREAAMATEPY|          5|            0|          0|   N|                Y|\n",
            "|R2116AVB87SO38|          5|            0|          0|   N|                Y|\n",
            "|R3RDVBB6O0X3HW|          5|            0|          0|   N|                Y|\n",
            "|R3LW5T149LKKQM|          4|            0|          0|   N|                Y|\n",
            "+--------------+-----------+-------------+-----------+----+-----------------+\n",
            "only showing top 20 rows\n",
            "\n"
          ]
        }
      ]
    },
    {
      "cell_type": "markdown",
      "metadata": {
        "id": "bt3aaQHYzm3n"
      },
      "source": [
        "1. Filter the date to retrieve all rows where total_votes >= 20"
      ]
    },
    {
      "cell_type": "code",
      "metadata": {
        "colab": {
          "base_uri": "https://localhost:8080/"
        },
        "id": "6UKgpbM5zhu6",
        "outputId": "85352f90-d29f-49d1-9494-f49d50a40494"
      },
      "source": [
        "filtered_vine_df = vine_df.filter('total_votes>=20')\n",
        "filtered_vine_df.show()"
      ],
      "execution_count": 28,
      "outputs": [
        {
          "output_type": "stream",
          "name": "stdout",
          "text": [
            "+--------------+-----------+-------------+-----------+----+-----------------+\n",
            "|     review_id|star_rating|helpful_votes|total_votes|vine|verified_purchase|\n",
            "+--------------+-----------+-------------+-----------+----+-----------------+\n",
            "|R1B4753QMTD8ON|          5|           32|         32|   N|                N|\n",
            "|R28BVHOEL6GCHZ|          5|           21|         21|   N|                Y|\n",
            "|R27IB4BRKO71I0|          2|           16|         20|   N|                Y|\n",
            "| RJ86OW12Y4NRL|          5|          124|        128|   N|                Y|\n",
            "|R3KRABOWCH6ZE4|          1|           48|         65|   N|                Y|\n",
            "|R1OAKARA30DIWX|          4|           83|         89|   N|                Y|\n",
            "|R36LSV4WQ4VB1K|          5|           17|         22|   N|                N|\n",
            "|R18BTOE5UGN7UA|          5|           26|         28|   N|                Y|\n",
            "|R1DXLGDSK2WMLD|          4|           22|         22|   N|                N|\n",
            "| RZG2OHQ12YYZI|          5|           30|         31|   N|                Y|\n",
            "|R1ZPBQCT4DYE4Z|          1|           45|         51|   N|                Y|\n",
            "|R16KLPJUNC9GS7|          5|           20|         21|   N|                Y|\n",
            "|R3Q0414UJO4BDO|          1|           23|         28|   N|                Y|\n",
            "| RDHDT1Z4R8IOF|          1|           18|         20|   N|                Y|\n",
            "|R10BO7KWZNBGL1|          4|           23|         24|   N|                Y|\n",
            "|R1H6DQ1UXL6K8U|          5|           86|         97|   N|                N|\n",
            "|R32OMS1LSDRCOB|          4|           27|         31|   Y|                N|\n",
            "|R1ABJ5P5XAZ9AW|          5|          174|        187|   N|                N|\n",
            "|R2RRFZ2YFSJ2OF|          5|           27|         27|   N|                Y|\n",
            "|R19G3LWRFBHDX3|          1|            4|         42|   N|                Y|\n",
            "+--------------+-----------+-------------+-----------+----+-----------------+\n",
            "only showing top 20 rows\n",
            "\n"
          ]
        }
      ]
    },
    {
      "cell_type": "markdown",
      "metadata": {
        "id": "lNrs8hmH1g8j"
      },
      "source": [
        "2. Create new dataframe to retrieve all rows where number helpful_votes / total_votes >= 50%"
      ]
    },
    {
      "cell_type": "code",
      "metadata": {
        "colab": {
          "base_uri": "https://localhost:8080/"
        },
        "id": "s5TkeuR71vYu",
        "outputId": "60ae1e15-9e38-47a7-e29f-00775da71917"
      },
      "source": [
        "filtered_vine_2_df = filtered_vine_df.withColumn('votes_greater_than_50', filtered_vine_df[\"helpful_votes\"]/filtered_vine_df[\"total_votes\"]).filter('votes_greater_than_50>0.5')\n",
        "filtered_vine_2_df.show()"
      ],
      "execution_count": 39,
      "outputs": [
        {
          "output_type": "stream",
          "name": "stdout",
          "text": [
            "+--------------+-----------+-------------+-----------+----+-----------------+---------------------+\n",
            "|     review_id|star_rating|helpful_votes|total_votes|vine|verified_purchase|votes_greater_than_50|\n",
            "+--------------+-----------+-------------+-----------+----+-----------------+---------------------+\n",
            "|R1B4753QMTD8ON|          5|           32|         32|   N|                N|                  1.0|\n",
            "|R28BVHOEL6GCHZ|          5|           21|         21|   N|                Y|                  1.0|\n",
            "|R27IB4BRKO71I0|          2|           16|         20|   N|                Y|                  0.8|\n",
            "| RJ86OW12Y4NRL|          5|          124|        128|   N|                Y|              0.96875|\n",
            "|R3KRABOWCH6ZE4|          1|           48|         65|   N|                Y|   0.7384615384615385|\n",
            "|R1OAKARA30DIWX|          4|           83|         89|   N|                Y|   0.9325842696629213|\n",
            "|R36LSV4WQ4VB1K|          5|           17|         22|   N|                N|   0.7727272727272727|\n",
            "|R18BTOE5UGN7UA|          5|           26|         28|   N|                Y|   0.9285714285714286|\n",
            "|R1DXLGDSK2WMLD|          4|           22|         22|   N|                N|                  1.0|\n",
            "| RZG2OHQ12YYZI|          5|           30|         31|   N|                Y|    0.967741935483871|\n",
            "|R1ZPBQCT4DYE4Z|          1|           45|         51|   N|                Y|   0.8823529411764706|\n",
            "|R16KLPJUNC9GS7|          5|           20|         21|   N|                Y|   0.9523809523809523|\n",
            "|R3Q0414UJO4BDO|          1|           23|         28|   N|                Y|   0.8214285714285714|\n",
            "| RDHDT1Z4R8IOF|          1|           18|         20|   N|                Y|                  0.9|\n",
            "|R10BO7KWZNBGL1|          4|           23|         24|   N|                Y|   0.9583333333333334|\n",
            "|R1H6DQ1UXL6K8U|          5|           86|         97|   N|                N|   0.8865979381443299|\n",
            "|R32OMS1LSDRCOB|          4|           27|         31|   Y|                N|   0.8709677419354839|\n",
            "|R1ABJ5P5XAZ9AW|          5|          174|        187|   N|                N|     0.93048128342246|\n",
            "|R2RRFZ2YFSJ2OF|          5|           27|         27|   N|                Y|                  1.0|\n",
            "| RJ0T139KDORXP|          5|           23|         24|   N|                Y|   0.9583333333333334|\n",
            "+--------------+-----------+-------------+-----------+----+-----------------+---------------------+\n",
            "only showing top 20 rows\n",
            "\n"
          ]
        }
      ]
    },
    {
      "cell_type": "markdown",
      "metadata": {
        "id": "Ls4LpXnv6EDA"
      },
      "source": [
        "3. Filter the dataframe and create a new one that retrieves all the rows where review was a paid one (vine == \"Y\")"
      ]
    },
    {
      "cell_type": "code",
      "metadata": {
        "colab": {
          "base_uri": "https://localhost:8080/"
        },
        "id": "SdsVyQDH6Yj_",
        "outputId": "514471b1-16ee-4d95-c383-9215b9318277"
      },
      "source": [
        "paid_reviews_df = filtered_vine_2_df.filter('vine == \"Y\"')\n",
        "paid_reviews_df.show()"
      ],
      "execution_count": 44,
      "outputs": [
        {
          "output_type": "stream",
          "name": "stdout",
          "text": [
            "+--------------+-----------+-------------+-----------+----+-----------------+---------------------+\n",
            "|     review_id|star_rating|helpful_votes|total_votes|vine|verified_purchase|votes_greater_than_50|\n",
            "+--------------+-----------+-------------+-----------+----+-----------------+---------------------+\n",
            "|R32OMS1LSDRCOB|          4|           27|         31|   Y|                N|   0.8709677419354839|\n",
            "|R2IPKK4I0XRCFR|          4|           16|         21|   Y|                N|   0.7619047619047619|\n",
            "| RXYYJ8SGI9IX6|          5|           36|         41|   Y|                N|   0.8780487804878049|\n",
            "|R1SAUBFC7T6JHC|          5|           73|         75|   Y|                N|   0.9733333333333334|\n",
            "|R329HVJKKHWSG3|          5|           59|         59|   Y|                N|                  1.0|\n",
            "| RZL21K50M52KW|          5|           22|         22|   Y|                N|                  1.0|\n",
            "|R24RC5J2D92SBE|          5|           19|         20|   Y|                N|                 0.95|\n",
            "|R1803HITBY7Y08|          4|           92|        104|   Y|                N|   0.8846153846153846|\n",
            "|R1888B8Z6QWYZ4|          4|           18|         25|   Y|                N|                 0.72|\n",
            "|R1S538NK2I5PRL|          5|           21|         22|   Y|                N|   0.9545454545454546|\n",
            "| RZDTBIS1289HJ|          5|           26|         28|   Y|                N|   0.9285714285714286|\n",
            "|R1MWLO2PFODMQ3|          5|           31|         32|   Y|                N|              0.96875|\n",
            "|R3O6EMC0ISQY92|          4|           25|         27|   Y|                N|   0.9259259259259259|\n",
            "|R1OGJY9TSNXXX3|          5|           19|         22|   Y|                N|   0.8636363636363636|\n",
            "| R3AOPWQNKJ6VE|          5|           25|         29|   Y|                N|   0.8620689655172413|\n",
            "|R1XJFRM9ANTVSZ|          4|           44|         46|   Y|                N|   0.9565217391304348|\n",
            "|R1VDF41NJMDGBT|          2|           23|         29|   Y|                N|   0.7931034482758621|\n",
            "|R2C0QDBA4NEEKD|          3|          173|        200|   Y|                N|                0.865|\n",
            "|R3TUMV5DZL433H|          4|           29|         38|   Y|                N|   0.7631578947368421|\n",
            "| RVU1EA54INF9T|          5|           19|         21|   Y|                N|   0.9047619047619048|\n",
            "+--------------+-----------+-------------+-----------+----+-----------------+---------------------+\n",
            "only showing top 20 rows\n",
            "\n"
          ]
        }
      ]
    },
    {
      "cell_type": "markdown",
      "metadata": {
        "id": "H2yET6dE6pyU"
      },
      "source": [
        "4. Create another dataframe with unpaid reviews"
      ]
    },
    {
      "cell_type": "code",
      "metadata": {
        "colab": {
          "base_uri": "https://localhost:8080/"
        },
        "id": "hq7_PjkR6uFg",
        "outputId": "3cc37027-4767-4027-85c8-3ae0cdc2a2fb"
      },
      "source": [
        "unpaid_reviews_df = filtered_vine_2_df.filter('vine == \"N\"')\n",
        "unpaid_reviews_df.show()"
      ],
      "execution_count": 45,
      "outputs": [
        {
          "output_type": "stream",
          "name": "stdout",
          "text": [
            "+--------------+-----------+-------------+-----------+----+-----------------+---------------------+\n",
            "|     review_id|star_rating|helpful_votes|total_votes|vine|verified_purchase|votes_greater_than_50|\n",
            "+--------------+-----------+-------------+-----------+----+-----------------+---------------------+\n",
            "|R1B4753QMTD8ON|          5|           32|         32|   N|                N|                  1.0|\n",
            "|R28BVHOEL6GCHZ|          5|           21|         21|   N|                Y|                  1.0|\n",
            "|R27IB4BRKO71I0|          2|           16|         20|   N|                Y|                  0.8|\n",
            "| RJ86OW12Y4NRL|          5|          124|        128|   N|                Y|              0.96875|\n",
            "|R3KRABOWCH6ZE4|          1|           48|         65|   N|                Y|   0.7384615384615385|\n",
            "|R1OAKARA30DIWX|          4|           83|         89|   N|                Y|   0.9325842696629213|\n",
            "|R36LSV4WQ4VB1K|          5|           17|         22|   N|                N|   0.7727272727272727|\n",
            "|R18BTOE5UGN7UA|          5|           26|         28|   N|                Y|   0.9285714285714286|\n",
            "|R1DXLGDSK2WMLD|          4|           22|         22|   N|                N|                  1.0|\n",
            "| RZG2OHQ12YYZI|          5|           30|         31|   N|                Y|    0.967741935483871|\n",
            "|R1ZPBQCT4DYE4Z|          1|           45|         51|   N|                Y|   0.8823529411764706|\n",
            "|R16KLPJUNC9GS7|          5|           20|         21|   N|                Y|   0.9523809523809523|\n",
            "|R3Q0414UJO4BDO|          1|           23|         28|   N|                Y|   0.8214285714285714|\n",
            "| RDHDT1Z4R8IOF|          1|           18|         20|   N|                Y|                  0.9|\n",
            "|R10BO7KWZNBGL1|          4|           23|         24|   N|                Y|   0.9583333333333334|\n",
            "|R1H6DQ1UXL6K8U|          5|           86|         97|   N|                N|   0.8865979381443299|\n",
            "|R1ABJ5P5XAZ9AW|          5|          174|        187|   N|                N|     0.93048128342246|\n",
            "|R2RRFZ2YFSJ2OF|          5|           27|         27|   N|                Y|                  1.0|\n",
            "| RJ0T139KDORXP|          5|           23|         24|   N|                Y|   0.9583333333333334|\n",
            "|R30MVK7HP2DW91|          5|           84|        124|   N|                Y|   0.6774193548387096|\n",
            "+--------------+-----------+-------------+-----------+----+-----------------+---------------------+\n",
            "only showing top 20 rows\n",
            "\n"
          ]
        }
      ]
    },
    {
      "cell_type": "markdown",
      "metadata": {
        "id": "SgFPqBMRzibZ"
      },
      "source": [
        ""
      ]
    },
    {
      "cell_type": "markdown",
      "metadata": {
        "id": "q362wBcN61AG"
      },
      "source": [
        "5. Determine the following for paid and unpaid reviews:\n",
        "\n",
        "*   Total number of reviews\n",
        "*   Number of 5-star reviews\n",
        "*   % of 5-star reviews"
      ]
    },
    {
      "cell_type": "code",
      "metadata": {
        "colab": {
          "base_uri": "https://localhost:8080/"
        },
        "id": "jWEXRZd47W7i",
        "outputId": "15460567-847f-47ef-e42f-3082b7d41b55"
      },
      "source": [
        "# Total number of paid reviews\n",
        "total_paid_reviews = paid_reviews_df.count()\n",
        "print(total_paid_reviews)"
      ],
      "execution_count": 54,
      "outputs": [
        {
          "output_type": "stream",
          "name": "stdout",
          "text": [
            "334\n"
          ]
        }
      ]
    },
    {
      "cell_type": "code",
      "metadata": {
        "colab": {
          "base_uri": "https://localhost:8080/"
        },
        "id": "0bkjvqU177xz",
        "outputId": "f49d0b6e-62ef-4467-a404-199afc183390"
      },
      "source": [
        "# Number of 5 star paid reviews\n",
        "five_star_paid = paid_reviews_df.filter('star_rating==5').count()\n",
        "print(five_star_paid)"
      ],
      "execution_count": 57,
      "outputs": [
        {
          "output_type": "stream",
          "name": "stdout",
          "text": [
            "139\n"
          ]
        }
      ]
    },
    {
      "cell_type": "code",
      "metadata": {
        "colab": {
          "base_uri": "https://localhost:8080/"
        },
        "id": "Q8uAD3-99LhX",
        "outputId": "0e2a330e-c528-402c-d5f5-07d2a40a0715"
      },
      "source": [
        "# Percent of 5-star paid reviews\n",
        "percent_five_star_paid = five_star_paid/total_paid_reviews\n",
        "print(percent_five_star_paid)"
      ],
      "execution_count": 58,
      "outputs": [
        {
          "output_type": "stream",
          "name": "stdout",
          "text": [
            "0.4161676646706587\n"
          ]
        }
      ]
    },
    {
      "cell_type": "code",
      "metadata": {
        "colab": {
          "base_uri": "https://localhost:8080/"
        },
        "id": "042SLag_-_D2",
        "outputId": "caa1648b-6b33-4120-db56-c8588d205dbe"
      },
      "source": [
        "# Total number of unpaid reviews\n",
        "total_unpaid_reviews = unpaid_reviews_df.count()\n",
        "print(total_unpaid_reviews)"
      ],
      "execution_count": 59,
      "outputs": [
        {
          "output_type": "stream",
          "name": "stdout",
          "text": [
            "61614\n"
          ]
        }
      ]
    },
    {
      "cell_type": "code",
      "metadata": {
        "colab": {
          "base_uri": "https://localhost:8080/"
        },
        "id": "VZ-Y6gGp_S52",
        "outputId": "1a58916d-8a91-4eef-f38b-d14a45291f4b"
      },
      "source": [
        "# Number of 5 star unpaid reviews\n",
        "five_star_unpaid = unpaid_reviews_df.filter('star_rating==5').count()\n",
        "print(five_star_unpaid)"
      ],
      "execution_count": 60,
      "outputs": [
        {
          "output_type": "stream",
          "name": "stdout",
          "text": [
            "32665\n"
          ]
        }
      ]
    },
    {
      "cell_type": "code",
      "metadata": {
        "colab": {
          "base_uri": "https://localhost:8080/"
        },
        "id": "Z4KQNlb3_Zfp",
        "outputId": "518ceb62-b8d7-4e0c-d479-0df382ac03f9"
      },
      "source": [
        "# Percent of 5-star unpaid reviews\n",
        "percent_five_star_unpaid = five_star_unpaid/total_unpaid_reviews\n",
        "print(percent_five_star_unpaid)"
      ],
      "execution_count": 61,
      "outputs": [
        {
          "output_type": "stream",
          "name": "stdout",
          "text": [
            "0.5301554841432142\n"
          ]
        }
      ]
    }
  ]
}